{
 "cells": [
  {
   "cell_type": "markdown",
   "id": "cf461b7a",
   "metadata": {},
   "source": [
    "# 🔧 Ultrasonic Super-Resolution ML Model - Google Colab"
   ]
  },
  {
   "cell_type": "markdown",
   "id": "bc99e5ea",
   "metadata": {},
   "source": [
    "## Step 1: Upload Dataset"
   ]
  },
  {
   "cell_type": "code",
   "execution_count": null,
   "id": "b40560bc",
   "metadata": {},
   "outputs": [],
   "source": [
    "from google.colab import files\n",
    "uploaded = files.upload()"
   ]
  },
  {
   "cell_type": "markdown",
   "id": "3f27c4ae",
   "metadata": {},
   "source": [
    "## Step 2: Load & Group Data"
   ]
  },
  {
   "cell_type": "code",
   "execution_count": null,
   "id": "7c237b6a",
   "metadata": {},
   "outputs": [],
   "source": [
    "import pandas as pd, numpy as np\n",
    "\n",
    "df = pd.read_csv(list(uploaded.keys())[0])\n",
    "frames, group = [], []\n",
    "\n",
    "for _, row in df.iterrows():\n",
    "    angle = int(row[\"Angle\"])\n",
    "    if angle == 0 and group:\n",
    "        frames.append(group)\n",
    "        group = []\n",
    "    group.append((angle, int(row[\"Sensor\"]), float(row[\"Distance_cm\"])))\n",
    "frames.append(group)"
   ]
  },
  {
   "cell_type": "markdown",
   "id": "e70862d0",
   "metadata": {},
   "source": [
    "## Step 3: Convert to Sparse Grid"
   ]
  },
  {
   "cell_type": "code",
   "execution_count": null,
   "id": "57064d48",
   "metadata": {},
   "outputs": [],
   "source": [
    "def polar_to_grid(frame, grid_size=(4, 13)):\n",
    "    g = np.full(grid_size, -1.0)\n",
    "    for angle, sensor, dist in frame:\n",
    "        g[sensor - 1, int(angle / 15)] = dist\n",
    "    return g\n",
    "\n",
    "X = np.array([polar_to_grid(f) for f in frames]).reshape(-1, 4, 13, 1) / 100.0"
   ]
  },
  {
   "cell_type": "markdown",
   "id": "d7bdbea4",
   "metadata": {},
   "source": [
    "## Step 4: Create Super-Resolution Targets"
   ]
  },
  {
   "cell_type": "code",
   "execution_count": null,
   "id": "44f22976",
   "metadata": {},
   "outputs": [],
   "source": [
    "import cv2\n",
    "\n",
    "y = np.array([\n",
    "    cv2.resize(x.squeeze(), (52, 16), interpolation=cv2.INTER_CUBIC)\n",
    "    for x in X * 100\n",
    "]).reshape(-1, 16, 52, 1) / 100.0"
   ]
  },
  {
   "cell_type": "markdown",
   "id": "b9488d44",
   "metadata": {},
   "source": [
    "## Step 5: Build and Train Model"
   ]
  },
  {
   "cell_type": "code",
   "execution_count": null,
   "id": "e21cf357",
   "metadata": {},
   "outputs": [],
   "source": [
    "import tensorflow as tf\n",
    "from tensorflow.keras.models import Sequential\n",
    "from tensorflow.keras.layers import Conv2D, UpSampling2D, InputLayer\n",
    "\n",
    "model = Sequential([\n",
    "    InputLayer(input_shape=(4, 13, 1)),\n",
    "    Conv2D(32, 3, activation='relu', padding='same'),\n",
    "    UpSampling2D((2, 2)),\n",
    "    Conv2D(32, 3, activation='relu', padding='same'),\n",
    "    UpSampling2D((2, 2)),\n",
    "    Conv2D(1, 3, activation='linear', padding='same')\n",
    "])\n",
    "\n",
    "model.compile(optimizer='adam', loss='mse')\n",
    "model.fit(X, y, epochs=20, batch_size=16)"
   ]
  },
  {
   "cell_type": "markdown",
   "id": "c154b19d",
   "metadata": {},
   "source": [
    "## Step 6: Save Model"
   ]
  },
  {
   "cell_type": "code",
   "execution_count": null,
   "id": "ef74e39c",
   "metadata": {},
   "outputs": [],
   "source": [
    "model.save(\"ultrasonic_superres_model.h5\")\n",
    "from google.colab import files\n",
    "files.download(\"ultrasonic_superres_model.h5\")"
   ]
  }
 ],
 "metadata": {},
 "nbformat": 4,
 "nbformat_minor": 5
}
